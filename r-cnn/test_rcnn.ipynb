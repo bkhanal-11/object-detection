{
 "cells": [
  {
   "cell_type": "code",
   "execution_count": null,
   "metadata": {},
   "outputs": [],
   "source": [
    "import torch\n",
    "import torchvision.transforms as transforms\n",
    "from PIL import Image\n",
    "import os\n",
    "import cv2 as cv\n",
    "import matplotlib.pyplot as plt"
   ]
  },
  {
   "cell_type": "code",
   "execution_count": null,
   "metadata": {},
   "outputs": [],
   "source": [
    "device = torch.device(\"cuda:0\" if torch.cuda.is_available() else \"cpu\")\n",
    "# Load the saved model\n",
    "model = torch.load('my_model.pth', map_location=device)\n",
    "# Define the transform to apply to the image\n",
    "transform = transforms.Compose([\n",
    "    transforms.Resize(size=(224, 224)),  # Resize the image to 224x224 pixels\n",
    "    transforms.ToTensor()\n",
    "])"
   ]
  },
  {
   "cell_type": "code",
   "execution_count": null,
   "metadata": {},
   "outputs": [],
   "source": [
    "ss = cv.ximgproc.segmentation.createSelectiveSearchSegmentation()\n",
    "model.eval()\n",
    "\n",
    "path = \"airplanes/test/images/\"\n",
    "\n",
    "img = cv.imread(os.path.join(path, 'airplane_0010.jpg'))\n",
    "ss.setBaseImage(img)\n",
    "ss.switchToSelectiveSearchFast()\n",
    "ssresults = ss.process()\n",
    "imout = img.copy()\n",
    "for e, result in enumerate(ssresults):\n",
    "    if e < 2000:\n",
    "        x, y, w, h = result\n",
    "        timage = imout[y:y+h, x:x+w]\n",
    "        pil_image = Image.fromarray(cv.cvtColor(timage, cv.COLOR_BGR2RGB))\n",
    "        img_tensor = transform(pil_image)\n",
    "        img_tensor = img_tensor.unsqueeze(0).to(device)\n",
    "        with torch.no_grad():\n",
    "            out = model(img_tensor)\n",
    "            print(out)\n",
    "        if out[0][0] > 0.9:\n",
    "            cv.rectangle(imout, (x, y), (x+w, y+h), (0, 255, 0), 1, cv.LINE_AA)\n",
    "plt.figure()\n",
    "plt.imshow(imout)\n",
    "plt.show()"
   ]
  }
 ],
 "metadata": {
  "language_info": {
   "name": "python"
  },
  "orig_nbformat": 4
 },
 "nbformat": 4,
 "nbformat_minor": 2
}
